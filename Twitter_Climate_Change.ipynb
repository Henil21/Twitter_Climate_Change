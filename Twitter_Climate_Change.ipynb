{
  "nbformat": 4,
  "nbformat_minor": 0,
  "metadata": {
    "colab": {
      "provenance": [],
      "mount_file_id": "1IgeHBb5FB03WqLnPP-kSxHpyWf4Epv_t",
      "authorship_tag": "ABX9TyNFLWWtE8SPQ6osqrnmR24t",
      "include_colab_link": true
    },
    "kernelspec": {
      "name": "python3",
      "display_name": "Python 3"
    },
    "language_info": {
      "name": "python"
    }
  },
  "cells": [
    {
      "cell_type": "markdown",
      "metadata": {
        "id": "view-in-github",
        "colab_type": "text"
      },
      "source": [
        "<a href=\"https://colab.research.google.com/github/Henil21/Twitter_Climate_Change/blob/main/Twitter_Climate_Change.ipynb\" target=\"_parent\"><img src=\"https://colab.research.google.com/assets/colab-badge.svg\" alt=\"Open In Colab\"/></a>"
      ]
    },
    {
      "cell_type": "code",
      "execution_count": 16,
      "metadata": {
        "id": "D7lHWtUipl5j"
      },
      "outputs": [],
      "source": [
        "import tensorflow as tf\n",
        "import random\n",
        "import pandas as pd\n",
        "import numpy as np\n",
        "import matplotlib.pyplot as plt\n"
      ]
    },
    {
      "cell_type": "markdown",
      "source": [
        "## Getting Data Ready 🌴"
      ],
      "metadata": {
        "id": "u2ieRL6Xt1Sy"
      }
    },
    {
      "cell_type": "code",
      "source": [
        "Data=pd.read_csv('/content/drive/MyDrive/twitter_sentiment_data.csv')"
      ],
      "metadata": {
        "id": "OkF0pW-Rsq_t"
      },
      "execution_count": 4,
      "outputs": []
    },
    {
      "cell_type": "code",
      "source": [
        "Data.head(5)\n",
        "message=Data['message']\n",
        "message[10]\n",
        "sentiment=Data['sentiment']\n",
        "print(f\"message\\n{message[10]}\\n\\nsentiment : {sentiment[10]}\\n\\n\")\n",
        "print(f\"number of data : {len(message)}\")"
      ],
      "metadata": {
        "colab": {
          "base_uri": "https://localhost:8080/"
        },
        "id": "33kO0mZWs0cs",
        "outputId": "9f507992-9c8c-4114-e7e7-017d039f0d31"
      },
      "execution_count": 19,
      "outputs": [
        {
          "output_type": "stream",
          "name": "stdout",
          "text": [
            "message\n",
            "RT @DrDeJarnett: It's vital that the public health community addresses climate change- via @Climate4Health's Tabola #APHA2016 https://t.co/Ã¢â‚¬Â¦\n",
            "\n",
            "sentiment : 1\n",
            "\n",
            "\n",
            "number of data : 43943\n"
          ]
        }
      ]
    },
    {
      "cell_type": "markdown",
      "source": [
        "## Visualizing random tweet 🎋"
      ],
      "metadata": {
        "id": "L697yUV4txv6"
      }
    },
    {
      "cell_type": "code",
      "source": [
        "seed_number=random.randrange(0,len(message)-5)\n",
        "for i in range(seed_number,seed_number+5):\n",
        "    print(f\"T_number : {i}\\n message : {message[i]}\\n Sentiment : {sentiment[i]}\\n\")\n"
      ],
      "metadata": {
        "colab": {
          "base_uri": "https://localhost:8080/"
        },
        "id": "gpTMvMuuuxLI",
        "outputId": "51c6206a-cca6-4b6a-cad8-81c02af29c77"
      },
      "execution_count": 30,
      "outputs": [
        {
          "output_type": "stream",
          "name": "stdout",
          "text": [
            "T_number : 35432\n",
            " message : @AndrewSiciliano Since global warming isnâ€™t real you should stand outside with aerosol cans just spraying in each direction.\n",
            " Sentiment : 0\n",
            "\n",
            "T_number : 35433\n",
            " message : RT @WorldfNature: It's not okay how clueless #DonaldTrump is about climate change - The Guardian https://t.co/JbmqH8n9Ty\n",
            " Sentiment : 1\n",
            "\n",
            "T_number : 35434\n",
            " message : They think they can make Americans eat less to reverse climate change. What??\n",
            "#COSProject #MarkLevin #MAGA #TCOTâ€¦ https://t.co/dvD1VnZkRL\n",
            " Sentiment : -1\n",
            "\n",
            "T_number : 35435\n",
            " message : Weather Channel waited for day with no snowstorms to air new global warming special - Liberty Unyielding https://t.co/q2KW005KAb\n",
            " Sentiment : -1\n",
            "\n",
            "T_number : 35436\n",
            " message : Weather Channel waited for day with no snowstorms to air new global warming special - Liberty Unyielding https://t.co/5UitpAauyu\n",
            " Sentiment : -1\n",
            "\n"
          ]
        }
      ]
    }
  ]
}