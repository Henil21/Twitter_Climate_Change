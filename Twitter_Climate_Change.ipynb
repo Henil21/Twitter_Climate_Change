{
  "nbformat": 4,
  "nbformat_minor": 0,
  "metadata": {
    "colab": {
      "provenance": [],
      "mount_file_id": "1IgeHBb5FB03WqLnPP-kSxHpyWf4Epv_t",
      "authorship_tag": "ABX9TyMRcLcQSHdBMzb2VHaAIUPz",
      "include_colab_link": true
    },
    "kernelspec": {
      "name": "python3",
      "display_name": "Python 3"
    },
    "language_info": {
      "name": "python"
    }
  },
  "cells": [
    {
      "cell_type": "markdown",
      "metadata": {
        "id": "view-in-github",
        "colab_type": "text"
      },
      "source": [
        "<a href=\"https://colab.research.google.com/github/Henil21/Twitter_Climate_Change/blob/main/Twitter_Climate_Change.ipynb\" target=\"_parent\"><img src=\"https://colab.research.google.com/assets/colab-badge.svg\" alt=\"Open In Colab\"/></a>"
      ]
    },
    {
      "cell_type": "code",
      "execution_count": 3,
      "metadata": {
        "id": "D7lHWtUipl5j"
      },
      "outputs": [],
      "source": [
        "import tensorflow as tf\n",
        "import random\n",
        "import pandas as pd\n",
        "import numpy as np\n",
        "import matplotlib.pyplot as plt\n"
      ]
    },
    {
      "cell_type": "markdown",
      "source": [
        "## Getting Data Ready 🌴"
      ],
      "metadata": {
        "id": "u2ieRL6Xt1Sy"
      }
    },
    {
      "cell_type": "code",
      "source": [
        "Data=pd.read_csv('/content/drive/MyDrive/twitter_sentiment_data.csv')"
      ],
      "metadata": {
        "id": "OkF0pW-Rsq_t"
      },
      "execution_count": 4,
      "outputs": []
    },
    {
      "cell_type": "code",
      "source": [
        "Data.head(5)\n",
        "message=Data['message']\n",
        "message[10]\n",
        "sentiment=Data['sentiment']\n",
        "print(f\"message\\n{message[10]}\\n\\nsentiment : {sentiment[10]}\")\n"
      ],
      "metadata": {
        "colab": {
          "base_uri": "https://localhost:8080/"
        },
        "id": "33kO0mZWs0cs",
        "outputId": "43a2b726-92f1-4f36-93c7-add7a66b3a3a"
      },
      "execution_count": 12,
      "outputs": [
        {
          "output_type": "stream",
          "name": "stdout",
          "text": [
            "message\n",
            "RT @DrDeJarnett: It's vital that the public health community addresses climate change- via @Climate4Health's Tabola #APHA2016 https://t.co/Ã¢â‚¬Â¦\n",
            "\n",
            "sentiment : 1\n"
          ]
        }
      ]
    },
    {
      "cell_type": "markdown",
      "source": [
        "## Visualizing random tweet 🎋"
      ],
      "metadata": {
        "id": "L697yUV4txv6"
      }
    }
  ]
}